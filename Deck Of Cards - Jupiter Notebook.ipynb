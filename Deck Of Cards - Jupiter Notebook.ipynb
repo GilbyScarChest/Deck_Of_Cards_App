{
 "cells": [
  {
   "cell_type": "markdown",
   "metadata": {},
   "source": [
    "# Deck Of Cards App\n",
    "### By Tyler Gilbert"
   ]
  },
  {
   "cell_type": "code",
   "execution_count": 1,
   "metadata": {},
   "outputs": [],
   "source": [
    "# Dependencies\n",
    "import random\n",
    "import pandas as pd\n",
    "import time"
   ]
  },
  {
   "cell_type": "markdown",
   "metadata": {},
   "source": [
    "### Original Deck Of Cards\n",
    "\n",
    "This is the original 52 card deck we will always go back to after reshuffling."
   ]
  },
  {
   "cell_type": "code",
   "execution_count": 2,
   "metadata": {},
   "outputs": [],
   "source": [
    "deck = [\"AH\", \"KH\", \"QH\", \"JH\", \"10H\", \"9H\", \"8H\", \"7H\", \"6H\", \"5H\", \"4H\", \"3H\", \"2H\",\n",
    "        \"AC\", \"KC\", \"QC\", \"JC\", \"10C\", \"9C\", \"8C\", \"7C\", \"6C\", \"5C\", \"4C\", \"3C\", \"2C\",\n",
    "        \"AD\", \"KD\", \"QD\", \"JD\", \"10D\", \"9D\", \"8D\", \"7D\", \"6D\", \"5D\", \"4D\", \"3D\", \"2D\",\n",
    "        \"AS\", \"KS\", \"QS\", \"JS\", \"10S\", \"9S\", \"8S\", \"7S\", \"6S\", \"5S\", \"4S\", \"3S\", \"2S\"]"
   ]
  },
  {
   "cell_type": "markdown",
   "metadata": {},
   "source": [
    "### Discard Pile\n",
    "\n",
    "start with empty discard pile"
   ]
  },
  {
   "cell_type": "code",
   "execution_count": 3,
   "metadata": {},
   "outputs": [],
   "source": [
    "discard_pile = []"
   ]
  },
  {
   "cell_type": "markdown",
   "metadata": {},
   "source": [
    "start with empty hand"
   ]
  },
  {
   "cell_type": "code",
   "execution_count": 4,
   "metadata": {},
   "outputs": [],
   "source": [
    "hand = []"
   ]
  },
  {
   "cell_type": "markdown",
   "metadata": {},
   "source": [
    "### Deal_Cards function"
   ]
  },
  {
   "cell_type": "code",
   "execution_count": 5,
   "metadata": {},
   "outputs": [],
   "source": [
    "def Deal_Cards(nCards):\n",
    "    Deal_Cards.has_been_called = True    # Establishing Deal_Cards has been called ** May need this later for teaching games\n",
    "    global discard_pile                  # Access discard_pile\n",
    "    global hand                          # Access hand\n",
    "    hand = []                            # make sure hand is empty\n",
    "    for i in range(nCards):\n",
    "        try:\n",
    "            randChoice = random.choice(deck)   # pick number(specified by nCards) of random cards from deck\n",
    "            hand.append(randChoice)            # put those cards into hand\n",
    "            deck.remove(randChoice)            # remove them from deck\n",
    "        except:\n",
    "            Reshuffle()                        # If there aren't enough cards left in deck, call Reshuffle fuction\n",
    "            break\n",
    "    for card in hand:                          # Otherwise, move whatever was in hand into discard_pile\n",
    "        discard_pile.append(card)\n",
    "    if len(hand) < nCards:\n",
    "        print('Ready!')\n",
    "    else:                                      \n",
    "        print(hand)  "
   ]
  },
  {
   "cell_type": "markdown",
   "metadata": {},
   "source": [
    "### Reshuffle function"
   ]
  },
  {
   "cell_type": "code",
   "execution_count": 6,
   "metadata": {},
   "outputs": [],
   "source": [
    "def Reshuffle():\n",
    "    Reshuffle.has_been_called = True           # Establishing Reshuffle has been called ** May need this later for teaching games\n",
    "    print(\"Deck Empty. Reshuffling...\")\n",
    "    time.sleep(2)\n",
    "    global deck    # Access cards\n",
    "    deck = [\"AH\", \"KH\", \"QH\", \"JH\", \"10H\", \"9H\", \"8H\", \"7H\", \"6H\", \"5H\", \"4H\", \"3H\", \"2H\",    # Restore deck to original state\n",
    "            \"AC\", \"KC\", \"QC\", \"JC\", \"10C\", \"9C\", \"8C\", \"7C\", \"6C\", \"5C\", \"4C\", \"3C\", \"2C\",\n",
    "            \"AD\", \"KD\", \"QD\", \"JD\", \"10D\", \"9D\", \"8D\", \"7D\", \"6D\", \"5D\", \"4D\", \"3D\", \"2D\",\n",
    "            \"AS\", \"KS\", \"QS\", \"JS\", \"10S\", \"9S\", \"8S\", \"7S\", \"6S\", \"5S\", \"4S\", \"3S\", \"2S\"]\n",
    "    global discard_pile    # Access discard_pile\n",
    "    discard_pile = []     # Empty discard_pile\n",
    "    global hand          # Access hand\n",
    "    hand = []           # Empty hand"
   ]
  },
  {
   "cell_type": "markdown",
   "metadata": {},
   "source": [
    "### Future Goals\n",
    "\n",
    "- Swappable Card Decks which are customizable\n",
    "- Teach the app a few standard card games: [Poker, Gin, Golf, War, Blackjack]\n",
    "- Design Graphical User Interface (GUI)"
   ]
  },
  {
   "cell_type": "code",
   "execution_count": null,
   "metadata": {},
   "outputs": [],
   "source": []
  }
 ],
 "metadata": {
  "kernelspec": {
   "display_name": "Python 3",
   "language": "python",
   "name": "python3"
  },
  "language_info": {
   "codemirror_mode": {
    "name": "ipython",
    "version": 3
   },
   "file_extension": ".py",
   "mimetype": "text/x-python",
   "name": "python",
   "nbconvert_exporter": "python",
   "pygments_lexer": "ipython3",
   "version": "3.7.3"
  }
 },
 "nbformat": 4,
 "nbformat_minor": 2
}
